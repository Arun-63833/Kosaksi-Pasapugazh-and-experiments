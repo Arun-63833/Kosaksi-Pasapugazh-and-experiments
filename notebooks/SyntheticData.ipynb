{
 "cells": [
  {
   "cell_type": "code",
   "execution_count": 1,
   "metadata": {},
   "outputs": [],
   "source": [
    "import numpy as np\n",
    "import pandas as pd\n",
    "import matplotlib.pyplot as plt\n",
    "from sklearn.model_selection import train_test_split\n",
    "from sklearn.linear_model import LinearRegression\n",
    "from sklearn.metrics import r2_score\n",
    "from sklearn.preprocessing import LabelEncoder\n",
    "import os"
   ]
  },
  {
   "cell_type": "code",
   "execution_count": 8,
   "metadata": {},
   "outputs": [
    {
     "name": "stdout",
     "output_type": "stream",
     "text": [
      "None\n"
     ]
    }
   ],
   "source": [
    "# Load the original data\n",
    "df = pd.read_csv(r\"data/raw/Housing/data.csv\")\n",
    "df['date'] = pd.to_datetime(df['date'])\n",
    "df['age'] = df['date'].dt.year - df['yr_built']\n",
    "df['age_renovated'] = np.where(df['yr_renovated'] > 0, df['date'].dt.year - df['yr_renovated'], df['age'])\n",
    "\n",
    "label_encoder = LabelEncoder()\n",
    "df['statezip'] = label_encoder.fit_transform(df['statezip'])\n",
    "df['street'] = label_encoder.fit_transform(df['street'])\n",
    "df['city'] = label_encoder.fit_transform(df['city'])\n",
    "df['country'] = label_encoder.fit_transform(df['country'])\n",
    "\n",
    "df.drop(['date'], axis=1, inplace=True)\n",
    "\n",
    "# Split the original data into features and target\n",
    "xreal = df.drop(\"price\", axis=1)\n",
    "yreal = df[\"price\"]\n",
    "\n",
    "# Split the original data into train and test sets\n",
    "xtrainr, xtestr, ytrainr, ytestr = train_test_split(xreal, yreal, test_size=0.2, random_state=9046)"
   ]
  },
  {
   "cell_type": "code",
   "execution_count": 9,
   "metadata": {},
   "outputs": [
    {
     "name": "stdout",
     "output_type": "stream",
     "text": [
      "Max R2 score of real data (train on real, test on real): 0.6474026149165756\n"
     ]
    }
   ],
   "source": [
    "# Train a linear regression model on the original data\n",
    "model = LinearRegression()\n",
    "model.fit(xtrainr, ytrainr)\n",
    "ypred = model.predict(xtestr)\n",
    "r2s_real = r2_score(ytestr, ypred)\n",
    "print(\"Max R2 score of real data (train on real, test on real):\", r2s_real)"
   ]
  },
  {
   "cell_type": "code",
   "execution_count": 10,
   "metadata": {},
   "outputs": [],
   "source": [
    "# Load the synthetic data\n",
    "df = pd.read_csv(\"data/raw/Housing/new data.csv\")\n",
    "df['date'] = pd.to_datetime(df['date'])\n",
    "df['age'] = df['date'].dt.year - df['yr_built']\n",
    "df['age_renovated'] = np.where(df['yr_renovated'] > 0, df['date'].dt.year - df['yr_renovated'], df['age'])\n",
    "\n",
    "label_encoder = LabelEncoder()\n",
    "df['statezip'] = label_encoder.fit_transform(df['statezip'])\n",
    "df['street'] = label_encoder.fit_transform(df['street'])\n",
    "df['city'] = label_encoder.fit_transform(df['city'])\n",
    "df['country'] = label_encoder.fit_transform(df['country'])\n",
    "\n",
    "df.drop(['date'], axis=1, inplace=True)\n",
    "\n",
    "# Split the synthetic data into features and target\n",
    "x = df.drop(\"price\", axis=1)\n",
    "y = df[\"price\"]"
   ]
  },
  {
   "cell_type": "code",
   "execution_count": 11,
   "metadata": {},
   "outputs": [
    {
     "name": "stdout",
     "output_type": "stream",
     "text": [
      "Synthetic data training, real data testing (test on real): 0.4212580401709558\n",
      "Real + synthetic data training, real data testing (test on real): 0.5988795780720796\n"
     ]
    }
   ],
   "source": [
    "# Train a linear regression model on the synthetic data and test on the original test set\n",
    "model = LinearRegression()\n",
    "model.fit(x, y)\n",
    "ypred = model.predict(xtestr)\n",
    "r2s_synthetic = r2_score(ytestr, ypred)\n",
    "print(\"Synthetic data training, real data testing (test on real):\", r2s_synthetic)\n",
    "\n",
    "# Combine the original train set and the synthetic data\n",
    "x = pd.concat([xtrainr, x], axis=0)\n",
    "y = pd.concat([ytrainr, y], axis=0)\n",
    "\n",
    "# Train a linear regression model on the combined data and test on the original test set\n",
    "model = LinearRegression()\n",
    "model.fit(x, y)\n",
    "ypred = model.predict(xtestr)\n",
    "r2s_combined = r2_score(ytestr, ypred)\n",
    "print(\"Real + synthetic data training, real data testing (test on real):\", r2s_combined)"
   ]
  },
  {
   "cell_type": "code",
   "execution_count": 12,
   "metadata": {},
   "outputs": [
    {
     "data": {
      "image/png": "[encoded data removed]",
      "text/plain": [
       "<Figure size 800x600 with 1 Axes>"
      ]
     },
     "metadata": {},
     "output_type": "display_data"
    }
   ],
   "source": [
    "# Plot the R-squared scores\n",
    "scores = [r2s_real, r2s_synthetic, r2s_combined]\n",
    "labels = [\"Real Data\", \"Synthetic Data\", \"Real + Synthetic\"]\n",
    "\n",
    "plt.figure(figsize=(8, 6))\n",
    "plt.bar(labels, scores)\n",
    "plt.ylim(0, 1)\n",
    "plt.ylabel(\"R-squared Score\")\n",
    "plt.title(\"Comparison of R-squared Scores\")\n",
    "plt.show()"
   ]
  },
  {
   "cell_type": "code",
   "execution_count": null,
   "metadata": {},
   "outputs": [],
   "source": []
  }
 ],
 "metadata": {
  "kernelspec": {
   "display_name": "Python 3",
   "language": "python",
   "name": "python3"
  },
  "language_info": {
   "codemirror_mode": {
    "name": "ipython",
    "version": 3
   },
   "file_extension": ".py",
   "mimetype": "text/x-python",
   "name": "python",
   "nbconvert_exporter": "python",
   "pygments_lexer": "ipython3",
   "version": "3.9.6"
  }
 },
 "nbformat": 4,
 "nbformat_minor": 2
}
